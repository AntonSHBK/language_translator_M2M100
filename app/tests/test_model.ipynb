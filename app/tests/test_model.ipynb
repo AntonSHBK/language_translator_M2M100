{
 "cells": [
  {
   "cell_type": "markdown",
   "id": "f2042d3e",
   "metadata": {},
   "source": []
  },
  {
   "cell_type": "code",
   "execution_count": 1,
   "id": "6dad5ca2",
   "metadata": {},
   "outputs": [],
   "source": [
    "import random\n",
    "\n",
    "import numpy as np\n",
    "import pandas as pd\n",
    "\n",
    "import torch\n",
    "\n",
    "torch.cuda.empty_cache()\n",
    "\n",
    "def seed_all(seed: int) -> None:\n",
    "    np.random.seed(seed)\n",
    "    torch.manual_seed(seed)\n",
    "    torch.cuda.manual_seed(seed)\n",
    "    torch.cuda.manual_seed_all(seed)\n",
    "    torch.backends.cudnn.deterministic = True\n",
    "    torch.backends.cudnn.benchmark = False\n",
    "    random.seed(seed)"
   ]
  },
  {
   "cell_type": "code",
   "execution_count": 2,
   "id": "f3f0de9e",
   "metadata": {},
   "outputs": [],
   "source": [
    "# Фиксируем random seed\n",
    "SEED = 42\n",
    "seed_all(SEED)"
   ]
  },
  {
   "cell_type": "code",
   "execution_count": 3,
   "id": "c2a3f7a8",
   "metadata": {},
   "outputs": [],
   "source": [
    "from pathlib import Path\n",
    "\n",
    "DATA_PATH = Path('../data/')\n",
    "DATA_PATH.mkdir(parents=True, exist_ok=True)\n",
    "\n",
    "DATA_CACHE = DATA_PATH / Path('cache_dir/')\n",
    "DATA_CACHE.mkdir(parents=True, exist_ok=True)\n",
    "\n",
    "import pandas as pd\n",
    "\n",
    "pd.set_option('display.max_colwidth', 500) "
   ]
  },
  {
   "cell_type": "code",
   "execution_count": 4,
   "id": "9b12a68f",
   "metadata": {},
   "outputs": [],
   "source": [
    "import sys\n",
    "import os\n",
    "\n",
    "project_path = os.path.abspath(os.path.join(os.getcwd(), \"../..\"))\n",
    "sys.path.append(project_path)"
   ]
  },
  {
   "cell_type": "code",
   "execution_count": 5,
   "id": "0fe21e56",
   "metadata": {},
   "outputs": [],
   "source": [
    "from app.models.translate_model import TranslationModel, TranslationModelQAT"
   ]
  },
  {
   "cell_type": "code",
   "execution_count": 9,
   "id": "653a8fc9",
   "metadata": {},
   "outputs": [
    {
     "data": {
      "text/plain": [
       "{'texts': ['Глава 1. Призыв к битве\\n\\nМир древности был полон чудес и чудовищ. В те дни на земле великих правителей и легендарных героев, сражения не ограничивались только оружием и армиями. Они были испытаниями силы духа, мужества и ума. Одним из таких испытаний стали гонки на колесницах, что стало невероятно популярным в различных уголках мира, и даже в Иудее, где собрались великие герои Библии.\\n\\nЭти гонки, однако, не были простыми. Они не были лишь забава ради. Каждая колесница олицетворяла не только военную мощь, но и внутренний бой, борьбу с судьбой, и даже божественные вмешательства. Колесницы, запряженные сильными животными, мчались по древним трассам, где каждое движение было решающим. Гонщики, ставшие участниками этих состязаний, были героями, чьи имена известны всем — Моисей, Давид, Илия и многие другие.\\n\\nГлава 2. Моисей и его колесница\\n\\nМоисей, великий вождь и пророк, был на старости лет, но в его глазах горел огонь непокорного духа. Он решил принять участие в этих гонках, чтобы доказать, что даже в конце жизненного пути можно быть великим и сильным. Его колесница, украшенная символами Бога и народом Израиля, сияла на солнце. В ней он увидел свою последнюю битву, последнее испытание.\\n\\n\"Верьте в Бога, — сказал Моисей своим соратникам. — Он ведет нас к победе\". Смело выехав на стартовую линию, он оказался лицом к лицу с Давидом, царем Израиля. Давид, всегда полный решимости и веры, взглянул на Моисея с уважением. Но несмотря на всю свою храбрость, Моисей знал: это будет не просто гонка. Это будет битва за честь, за свободу народа, за его духовную силу.\\n\\nГлава 3. Давид и его колесница\\n\\nДавид, юный и мудрый, знал, что каждая победа — это не просто физическая сила, а воля Божья. Он был вдохновлен тем, как Бог привел его к победам в битвах, и считал, что гонки на колесницах будут лишь очередным проявлением божественного вмешательства в его жизнь. Его колесница была простой, но с глубокими религиозными символами, напоминая о той победе, которую он одержал над Голиафом.\\n\\nКак и Моисей, Давид был готов доказать свою веру в Бога в этом поединке на колесницах. Он знал, что гонка — это не только состязание силы и скорости, но и духовная борьба за благо народа.\\n\\nГлава 4. Илия и пророчество гонок\\n\\nИлия, великий пророк, пришел из пустыни, приверженец строгих традиций и невероятной силы духа. Он знал, что гонки на колесницах — это не просто испытание физической силы, а также проверка веры. Илия был уверен, что победа в гонках даст ему возможность еще раз подтвердить силу Бога, способного явить чудеса даже в самых безнадежных ситуациях.\\n\\nЕго колесница была украшена мистическими символами, изображениями огня и молний. Она символизировала власть Бога, которая может испепелить врагов и очистить землю. Илия был готов дать своему народу знак победы.\\n\\nГлава 5. Эсфирь и сила женского духа\\n\\nДаже в этом мире, полном мужественных героев, участие в гонках на колесницах было открыто для женщин. Эсфирь, царица Персии, приняла решение участвовать в гонке, чтобы доказать силу женского духа и своего народа. Ее колесница была богато украшена, а сама она была непоколебима в своей вере. Эсфирь знала, что гонки на колесницах станут не только испытанием ее физической силы, но и возможностью утвердить важность духовной силы женщины в этом мире.\\n\\n\"Бог ведет нас, и я верю, что победа будет за нами\", — сказала она, начиная свой путь.\\n\\nГлава 6. Схватка на трассе\\n\\nГонка началась. Молния вспыхнула, когда колесницы разогнались на максимальной скорости, и зрители затаили дыхание. Моисей, Давид, Илия и Эсфирь мчались по крутым поворотам и опасным участкам трассы, где каждое движение было решающим.\\n\\nМоисей, мудрый и опытный, держал курс на победу. Он знал, что важно не только победить, но и сохранить силу духа. Давид, молодой и решительный, рвался к финишу, не теряя веры в свою победу. Илия, пронизанный огненной силой Бога, боролся с судьбой, бросая вызовы невидимым силам. Эсфирь, несомненно, была одной из самых сильных противниц, полная решимости и веры в свою победу.',\n",
       "  'Меню',\n",
       "  'Этот автомобиль — воплощение современного инженерного искусства, сочетающего в себе передовые технологии, высокую производительность и исключительный комфорт: его мощный турбированный двигатель объемом 2,5 литра обеспечивает невероятную динамику и плавность хода при любом режиме эксплуатации, автоматическая коробка передач нового поколения позволяет достичь идеального баланса между скоростью и топливной экономичностью, система полного привода гарантирует уверенное управление на любых типах дорожного покрытия, включая мокрые, заснеженные или пересеченные участки, внутри просторного салона вас ждет премиальная отделка натуральной кожей, вставки из настоящего дерева и алюминия, а также новейшая мультимедийная система с 12-дюймовым сенсорным экраном, поддержкой Apple CarPlay, Android Auto и встроенной навигацией, фирменная аудиосистема с 14 динамиками обеспечивает кристально чистое звучание на любой громкости, интеллектуальная система климат-контроля автоматически поддерживает идеальную температуру для всех пассажиров, инновационные технологии безопасности, такие как адаптивный круиз-контроль, система предотвращения столкновений, контроль слепых зон и автоматическое экстренное торможение, обеспечивают максимальную защиту водителя и пассажиров, эргономика водительского места продумана до мелочей: регулируемое в восьми направлениях сиденье с функцией памяти, обогревом и вентиляцией, многофункциональный руль с подогревом и возможностью управления всеми основными функциями автомобиля, просторный багажник объемом 550 литров легко вмещает багаж для длительных поездок, а система бесконтактного открытия двери делает загрузку максимально удобной, интеллектуальная подвеска адаптируется к дорожным условиям в реальном времени, минимизируя крены и обеспечивая стабильность в поворотах, специальный спортивный режим трансформирует поведение автомобиля, делая управление особенно острым и отзывчивым',\n",
       "  'Глава 1. Призыв к битве. Мир древности был полон чудес и чудовищ. В те дни на земле великих правителей и легендарных героев, сражения не ограничивались только оружием и армиями. Они были испытаниями силы духа, мужества и ума. Одним из таких испытаний стали гонки на колесницах, что стало невероятно популярным в различных уголках мира, и даже в Иудее, где собрались великие герои Библии.'],\n",
       " 'source_lang': 'ru',\n",
       " 'target_langs': ['uk']}"
      ]
     },
     "execution_count": 9,
     "metadata": {},
     "output_type": "execute_result"
    }
   ],
   "source": [
    "from pathlib import Path\n",
    "import json\n",
    "\n",
    "long_text_path = Path(\"long_text.json\")\n",
    "\n",
    "with open(long_text_path, \"r\", encoding=\"utf-8\") as f:\n",
    "    data = json.load(f)\n",
    "\n",
    "texts = data[\"texts\"]\n",
    "source_lang = data[\"source_lang\"]\n",
    "target_langs = data[\"target_langs\"]\n",
    "data"
   ]
  },
  {
   "cell_type": "markdown",
   "id": "880a4b36",
   "metadata": {},
   "source": [
    "## Квантованная модель"
   ]
  },
  {
   "cell_type": "code",
   "execution_count": 10,
   "id": "10692567",
   "metadata": {},
   "outputs": [],
   "source": [
    "model = TranslationModelQAT(\n",
    "    model_name=\"michaelfeil/ct2fast-m2m100_418M\",\n",
    "    # model_name=\"michaelfeil/ct2fast-m2m100_1.2B\",\n",
    "    cache_dir=DATA_CACHE,\n",
    "    device=\"cpu\"\n",
    ")"
   ]
  },
  {
   "cell_type": "code",
   "execution_count": 11,
   "id": "b3583124",
   "metadata": {},
   "outputs": [
    {
     "name": "stdout",
     "output_type": "stream",
     "text": [
      "Переводы на язык 'uk':\n",
      "  [1] Розділ 1. Заклик до битви Світ давньості був наповнений чудесами і монстрами. У ті дні на землі великих правителів і легендарних героїв, битви не обмежувалися лише зброєю і армією. Вони були випробуваннями сили духу, мужності і розуму. Одним з таких випробувань стали гонки на колесницях, що стало неймовірно популярним в різних куточках світу, і навіть в Євреї, де зібралися великі герої Біблії. Однак ці гонки не були простими. Вони були не тільки веселою. Кожна колесниця олицтувала не тільки військову силу, але і внутрішній бій, боротьбу з долею, і навіть божественні втручання. Колесниці, запліднені сильними тваринами, м'ячали по стародавніх трасах, де кожен рух був вирішальним. Гонщики, які стали учасниками цих змагань, були героями, чиї імена відомі всім – Мойсею, Давиду, Іллію та багатьом іншим. Розділ 2. Мойсей і його колесниця Мойсей, великий вождь і пророк, був на старості років, але в його очах горів вогонь непокорного духу. Він вирішив взяти участь у цих гонках, щоб довести, що навіть в кінці життєвого шляху можна бути великим і сильним. Його колесниця, прикрашена символами Бога і народом Ізраїлю, світила на сонці. У ній він побачив свою останню битву, останнє випробування. «Вірте в Бога», – сказав Мойсей своїм товаришам. Він веде нас до перемоги». Сміливо вийшовши на стартову лінію, він виявився обличчям до обличчя з Давидом, царю Ізраїлю. Давид, завжди наповнений рішучістю і вірою, подивився на Мойсея з повагою. Але, незважаючи на всю свою мужність, Мойсей знав, що це буде не просто гонка. Це буде битва за честь, за свободу народу, за його духовну силу. Розділ 3. Давид і його колесниця Давид, молодий і мудрий, знав, що кожна перемога - це не просто фізична сила, а воля Божа. Він був натхнений тим, як Бог привів його до перемог у битвах, і вважав, що гонки на колесницях будуть лише черговим проявом божественного втручання в його життя. Його коляска була простим, але з глибокими релігійними символами, нагадуючи про перемогу, яку він здобув над Голіафом. Як і Мойсей, Давид був готовий довести свою віру в Бога в цьому бійці на колясках. Він знав, що гонка - це не тільки змагання сили і швидкості, але і духовна боротьба за благо народу. Розділ 4. Ілля і пророцтво гонки Ілля, великий пророк, прийшов з пустелі, прихильник суворих традицій і неймовірної сили духу. Він знав, що гонки на колесницях - це не просто випробування фізичної сили, а також тестування віри. Ілія був впевнений, що перемога в гонках дасть йому можливість ще раз підтвердити силу Бога, здатного з'являти чудеса навіть у найнесподіваніших ситуаціях. Його колесниця була прикрашена містичними символами, зображеннями вогню і блискавки. Вона символізувала владу Бога, яка може розпалити ворогів і очистити землю. Ілля був готовий дати своєму народу знак перемоги. Розділ 5. Есфір і сила жіночого духу Навіть у цьому світі, наповненому сміливих героїв, участь у гонках на колясках було відкрито для жінок. Есфір, королева Персії, прийняла рішення брати участь у гонці, щоб довести силу жіночого духу і свого народу. Її колесниця була багато прикрашена, а сама вона була непоколебима у своїй вірі. Есфір знала, що гонки на колесницях стануть не тільки випробуванням її фізичної сили, але й можливістю підтвердити важливість духовної сили жінки в цьому світі. «Бог веде нас, і я вірю, що перемога буде за нами», – сказала вона, починаючи свій шлях. Розділ 6. Стрічка на трасі гонки розпочалася. Молив вибухнула, коли вагони розгонилися на максимальній швидкості, і глядачі затихали дихання. Мойсей, Давид, Ілія і Есфір м'ячали по крутими поворотами і небезпечними ділянками траси, де кожен рух був вирішальним. Мойсей, мудрий і досвідчений, тримав курс на перемогу. Він знав, що важливо не тільки перемогти, але і зберегти силу духу. Давид, молодий і рішучий, біг до фіналу, не втрачаючи віри в свою перемогу. Ілля, пронизаний вогненою силою Бога, боровся з долею, кидаючи виклики невидимім силам. Есфір, безсумнівно, була однією з найсильніших противників, повною рішучістю і вірою у свою перемогу.\n",
      "  [2] Меню\n",
      "  [3] Цей автомобіль - втілення сучасного інженерного мистецтва, що поєднує в себе передові технології, високу продуктивність і виняткову комфорт: його потужний турбірований двигун об'єм 2,5 літрів забезпечує неймовірну динаміку і плавність ходу при будь-якому режимі експлуатації, автоматична трансмісійна коробка нового покоління дозволяє досягти ідеального балансу між швидкістю і паливою економією, система повного приводу гарантує впевнене керування на будь-яких типах дорожнього покриття, включаючи щільні, заснежені або перехрещені ділянки, всередині просторого салону вас чекає преміальна відрізання натуральної шкіри, вставки з справжнього дерева і алюмінію, а також новітня мультимедійна система з 12-дним сенсорним екраном, інтелектуальна система клімату-контролю автоматично підтримує ідеальну температуру для всіх пасажирів, інноваційні технології безпеки, такі як адаптивний круїз-контроль, система запобігання зіткнення, контроль сліпих зон і автоматичне аварійне затримка, забезпечують максимальну захист водія і пасажирів, ергономіка водійського місця задумана до дрібних: регульована в восьми напрямках сидіння з функцією пам'яті, нагрівання і вентиляції, багатофункціональний водій з нагріванням і здатність керувати всіма основними функціями автомобіля, прості багажник обсягом 550 літрів легко поміщає багаж для довгових поїздок, а система бесконтактного відкриття двох\n",
      "  [4] Розділ 1. Заклик до битви. Світ давньості був наповнений чудесами і монстрами. У ті дні на землі великих правителів і легендарних героїв, битви не обмежувалися лише зброєю і армією. Вони були випробуваннями сили духу, мужності і розуму. Одним з таких випробувань стали гонки на колесницях, що стало неймовірно популярним в різних куточках світу, і навіть в Євреї, де зібралися великі герої Біблії.\n",
      "\n"
     ]
    }
   ],
   "source": [
    "# Переводим тексты\n",
    "translations = model.translate_batch(\n",
    "    texts=texts,\n",
    "    source_lang=source_lang,\n",
    "    target_langs=target_langs\n",
    ")\n",
    "\n",
    "# Выводим результат\n",
    "for lang, translated_list in translations.items():\n",
    "    print(f\"Переводы на язык '{lang}':\")\n",
    "    for idx, translated_text in enumerate(translated_list):\n",
    "        print(f\"  [{idx + 1}] {translated_text}\")\n",
    "    print()"
   ]
  },
  {
   "cell_type": "markdown",
   "id": "5b413753",
   "metadata": {},
   "source": [
    "## Обычная модель"
   ]
  },
  {
   "cell_type": "code",
   "execution_count": null,
   "id": "ef8f707a",
   "metadata": {},
   "outputs": [],
   "source": [
    "model = TranslationModel(\n",
    "    model_name=\"facebook/m2m100_418M\",\n",
    "    # model_name=\"facebook/m2m100_1.2B\",\n",
    "    cache_dir=DATA_CACHE,\n",
    "    device=\"cpu\"\n",
    ")"
   ]
  },
  {
   "cell_type": "code",
   "execution_count": 10,
   "id": "9075cc84",
   "metadata": {},
   "outputs": [
    {
     "name": "stderr",
     "output_type": "stream",
     "text": [
      "d:\\projects\\env_ml\\.venv\\Lib\\site-packages\\transformers\\generation\\configuration_utils.py:634: UserWarning: `do_sample` is set to `False`. However, `top_p` is set to `0.95` -- this flag is only used in sample-based generation modes. You should set `do_sample=True` or unset `top_p`.\n",
      "  warnings.warn(\n"
     ]
    },
    {
     "name": "stdout",
     "output_type": "stream",
     "text": [
      "Переводы на язык 'en':\n",
      "  [1] Chapter 1 The call to the battle The world of ancient times was full of miracles and monsters. In those days on the ground of great rulers and legendary heroes, the battles were not limited to weapons and armies. They were the trials of the strength of spirit, courage and mind. One of these trials was the races on the wheels, which became incredibly popular in different corners of the world, and even in Judea, where the great heroes of the Bible gathered. However, these races were not easy. They were not just fun. Each wheel represented not only the military power, but also the internal battle, the fate struggle, and even the divine interventions. The wheels, stretched by strong animals, walked on ancient trails, where every movement was decisive. The runners who participated in these competitions were heroes whose names are known to everyone—Moses, David, Elijah and many others. Chapter 2 . Moses and his wardrobe Moses, the great leader and prophet, were old years old, but in his eyes a fire of the unrighteous spirit burned. He decided to take part in these races to prove that even at the end of life the way can be great and strong. His wheel, decorated with the symbols of God and the people of Israel, glowed on the sun. In it he saw his last battle, his last trial. “Give faith in God,” Moses said to his companions. He leads us to victory.” Having courageously gone out on the starting line, he found himself face-to-face with David, the king of Israel. David, always full of determination and faith, looked at Moses with respect. But despite all his courage, Moses knew that it was not just a race. It will be a battle for the honor, for the freedom of the people, for their spiritual power. Chapter 3 . David and his wheelchair David, young and wise, knew that every victory was not just a physical force, but God’s will. He was inspired by the way God led him to victories in battles, and believed that races on the wheels would be only another manifestation of divine interference in his life. His wheel was simple, but with profound religious symbols, reminding him of the victory he gained over Goliath. Like Moses, David was ready to prove his faith in God in this battle on the wheels. He knew that race was not only a race of strength and speed, but also a spiritual struggle for the good of the people. Chapter 4 . Elias and the prophecy of the race of Elias, the great prophet, came from the desert, a follower of strict traditions and the incredible strength of the spirit. He knew that racing on the wheels was not just a test of physical strength, but also a check of faith. Elias was confident that the victory in the races would give him the opportunity to reaffirm the power of God, capable of showing miracles even in the most hopeless situations. His wheel was decorated with mystical symbols, images of fire and lightning. It symbolizes the power of God, which is capable of spelling enemies and cleansing the earth. Elias was ready to give his people a sign of victory. Chapter 5 Even in this world, full of courageous heroes, participation in races on the wheels was open to women. Ester, the queen of Persia, decided to participate in the race to prove the strength of the female spirit and its people. Her wheel was richly decorated, and she herself was impeccable in her faith. Esphyr knew that races on the wheels would become not only a test of her physical strength, but also an opportunity to confirm the importance of the spiritual strength of the woman in this world. “God leads us, and I believe that the victory will be behind us,” she said, starting her way. Chapter 6 . The race on the track has begun. The mole exploded when the wheels broke up at the maximum speed, and the viewers stumbled their breath. Moses, David, Elijah, and Espher walked on the rough turns and dangerous parts of the road, where every movement was decisive. Moses, wise and experienced, kept the course to victory. He knew that it was important not only to win, but also to preserve the strength of the spirit. David, young and determined, rushed to the end, without losing faith in his victory. Elijah, penetrated by the fireful power of God, fought the fate, throwing challenges to the invisible forces. Esfir was undoubtedly one of the strongest opponents, full of determination and faith in his victory.\n",
      "  [2] Menu\n",
      "  [3] Chapter 1 Call to Battle\n",
      "  [4] Chapter 1 Call for battle. The ancient world was full of miracles and monsters. In those days on the ground of great rulers and legendary heroes, the battles were not limited to weapons and armies. They were the trials of the strength of spirit, courage and mind. One of these trials was the races on the wheels, which became incredibly popular in different corners of the world, and even in Judea, where the great heroes of the Bible gathered.\n",
      "\n"
     ]
    }
   ],
   "source": [
    "# Переводим тексты\n",
    "translations = model.translate_batch(\n",
    "    texts=texts,\n",
    "    source_lang=source_lang,\n",
    "    target_langs=target_langs\n",
    ")\n",
    "\n",
    "# Выводим результат\n",
    "for lang, translated_list in translations.items():\n",
    "    print(f\"Переводы на язык '{lang}':\")\n",
    "    for idx, translated_text in enumerate(translated_list):\n",
    "        print(f\"  [{idx + 1}] {translated_text}\")\n",
    "    print()"
   ]
  }
 ],
 "metadata": {
  "kernelspec": {
   "display_name": ".venv",
   "language": "python",
   "name": "python3"
  },
  "language_info": {
   "codemirror_mode": {
    "name": "ipython",
    "version": 3
   },
   "file_extension": ".py",
   "mimetype": "text/x-python",
   "name": "python",
   "nbconvert_exporter": "python",
   "pygments_lexer": "ipython3",
   "version": "3.11.5"
  }
 },
 "nbformat": 4,
 "nbformat_minor": 5
}

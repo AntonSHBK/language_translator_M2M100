{
 "cells": [
  {
   "cell_type": "markdown",
   "id": "f2042d3e",
   "metadata": {},
   "source": []
  },
  {
   "cell_type": "code",
   "execution_count": 1,
   "id": "6dad5ca2",
   "metadata": {},
   "outputs": [],
   "source": [
    "import random\n",
    "\n",
    "import numpy as np\n",
    "import pandas as pd\n",
    "\n",
    "import torch\n",
    "\n",
    "torch.cuda.empty_cache()\n",
    "\n",
    "def seed_all(seed: int) -> None:\n",
    "    np.random.seed(seed)\n",
    "    torch.manual_seed(seed)\n",
    "    torch.cuda.manual_seed(seed)\n",
    "    torch.cuda.manual_seed_all(seed)\n",
    "    torch.backends.cudnn.deterministic = True\n",
    "    torch.backends.cudnn.benchmark = False\n",
    "    random.seed(seed)"
   ]
  },
  {
   "cell_type": "code",
   "execution_count": 2,
   "id": "f3f0de9e",
   "metadata": {},
   "outputs": [],
   "source": [
    "# Фиксируем random seed\n",
    "SEED = 42\n",
    "seed_all(SEED)"
   ]
  },
  {
   "cell_type": "code",
   "execution_count": 3,
   "id": "c2a3f7a8",
   "metadata": {},
   "outputs": [],
   "source": [
    "from pathlib import Path\n",
    "\n",
    "DATA_PATH = Path('../data/')\n",
    "DATA_PATH.mkdir(parents=True, exist_ok=True)\n",
    "\n",
    "DATA_CACHE = DATA_PATH / Path('cache_dir/')\n",
    "DATA_CACHE.mkdir(parents=True, exist_ok=True)\n",
    "\n",
    "import pandas as pd\n",
    "\n",
    "pd.set_option('display.max_colwidth', 500) "
   ]
  },
  {
   "cell_type": "code",
   "execution_count": 4,
   "id": "9b12a68f",
   "metadata": {},
   "outputs": [],
   "source": [
    "import sys\n",
    "import os\n",
    "\n",
    "project_path = os.path.abspath(os.path.join(os.getcwd(), \"../..\"))\n",
    "sys.path.append(project_path)"
   ]
  },
  {
   "cell_type": "code",
   "execution_count": 5,
   "id": "0fe21e56",
   "metadata": {},
   "outputs": [],
   "source": [
    "from app.models.translate_model import TranslationModel"
   ]
  },
  {
   "cell_type": "code",
   "execution_count": 6,
   "id": "ef8f707a",
   "metadata": {},
   "outputs": [],
   "source": [
    "model = TranslationModel(\n",
    "    model_name=\"facebook/m2m100_418M\",\n",
    "    # model_name=\"facebook/m2m100_1.2B\",\n",
    "    cache_dir=DATA_CACHE,\n",
    "    device=\"cpu\"\n",
    ")"
   ]
  },
  {
   "cell_type": "code",
   "execution_count": 7,
   "id": "653a8fc9",
   "metadata": {},
   "outputs": [
    {
     "data": {
      "text/plain": [
       "{'texts': ['Глава 1. Призыв к битве\\n\\nМир древности был полон чудес и чудовищ. В те дни на земле великих правителей и легендарных героев, сражения не ограничивались только оружием и армиями. Они были испытаниями силы духа, мужества и ума. Одним из таких испытаний стали гонки на колесницах, что стало невероятно популярным в различных уголках мира, и даже в Иудее, где собрались великие герои Библии.\\n\\nЭти гонки, однако, не были простыми. Они не были лишь забава ради. Каждая колесница олицетворяла не только военную мощь, но и внутренний бой, борьбу с судьбой, и даже божественные вмешательства. Колесницы, запряженные сильными животными, мчались по древним трассам, где каждое движение было решающим. Гонщики, ставшие участниками этих состязаний, были героями, чьи имена известны всем — Моисей, Давид, Илия и многие другие.\\n\\nГлава 2. Моисей и его колесница\\n\\nМоисей, великий вождь и пророк, был на старости лет, но в его глазах горел огонь непокорного духа. Он решил принять участие в этих гонках, чтобы доказать, что даже в конце жизненного пути можно быть великим и сильным. Его колесница, украшенная символами Бога и народом Израиля, сияла на солнце. В ней он увидел свою последнюю битву, последнее испытание.\\n\\n\"Верьте в Бога, — сказал Моисей своим соратникам. — Он ведет нас к победе\". Смело выехав на стартовую линию, он оказался лицом к лицу с Давидом, царем Израиля. Давид, всегда полный решимости и веры, взглянул на Моисея с уважением. Но несмотря на всю свою храбрость, Моисей знал: это будет не просто гонка. Это будет битва за честь, за свободу народа, за его духовную силу.\\n\\nГлава 3. Давид и его колесница\\n\\nДавид, юный и мудрый, знал, что каждая победа — это не просто физическая сила, а воля Божья. Он был вдохновлен тем, как Бог привел его к победам в битвах, и считал, что гонки на колесницах будут лишь очередным проявлением божественного вмешательства в его жизнь. Его колесница была простой, но с глубокими религиозными символами, напоминая о той победе, которую он одержал над Голиафом.\\n\\nКак и Моисей, Давид был готов доказать свою веру в Бога в этом поединке на колесницах. Он знал, что гонка — это не только состязание силы и скорости, но и духовная борьба за благо народа.\\n\\nГлава 4. Илия и пророчество гонок\\n\\nИлия, великий пророк, пришел из пустыни, приверженец строгих традиций и невероятной силы духа. Он знал, что гонки на колесницах — это не просто испытание физической силы, а также проверка веры. Илия был уверен, что победа в гонках даст ему возможность еще раз подтвердить силу Бога, способного явить чудеса даже в самых безнадежных ситуациях.\\n\\nЕго колесница была украшена мистическими символами, изображениями огня и молний. Она символизировала власть Бога, которая может испепелить врагов и очистить землю. Илия был готов дать своему народу знак победы.\\n\\nГлава 5. Эсфирь и сила женского духа\\n\\nДаже в этом мире, полном мужественных героев, участие в гонках на колесницах было открыто для женщин. Эсфирь, царица Персии, приняла решение участвовать в гонке, чтобы доказать силу женского духа и своего народа. Ее колесница была богато украшена, а сама она была непоколебима в своей вере. Эсфирь знала, что гонки на колесницах станут не только испытанием ее физической силы, но и возможностью утвердить важность духовной силы женщины в этом мире.\\n\\n\"Бог ведет нас, и я верю, что победа будет за нами\", — сказала она, начиная свой путь.\\n\\nГлава 6. Схватка на трассе\\n\\nГонка началась. Молния вспыхнула, когда колесницы разогнались на максимальной скорости, и зрители затаили дыхание. Моисей, Давид, Илия и Эсфирь мчались по крутым поворотам и опасным участкам трассы, где каждое движение было решающим.\\n\\nМоисей, мудрый и опытный, держал курс на победу. Он знал, что важно не только победить, но и сохранить силу духа. Давид, молодой и решительный, рвался к финишу, не теряя веры в свою победу. Илия, пронизанный огненной силой Бога, боролся с судьбой, бросая вызовы невидимым силам. Эсфирь, несомненно, была одной из самых сильных противниц, полная решимости и веры в свою победу.',\n",
       "  'Меню',\n",
       "  'Глава 1. Призыв к битве'],\n",
       " 'source_lang': 'ru',\n",
       " 'target_langs': ['en']}"
      ]
     },
     "execution_count": 7,
     "metadata": {},
     "output_type": "execute_result"
    }
   ],
   "source": [
    "from pathlib import Path\n",
    "import json\n",
    "\n",
    "long_text_path = Path(\"long_text.json\")\n",
    "\n",
    "with open(long_text_path, \"r\", encoding=\"utf-8\") as f:\n",
    "    data = json.load(f)\n",
    "\n",
    "texts = data[\"texts\"]\n",
    "source_lang = data[\"source_lang\"]\n",
    "target_langs = data[\"target_langs\"]\n",
    "data"
   ]
  },
  {
   "cell_type": "code",
   "execution_count": 8,
   "id": "9075cc84",
   "metadata": {},
   "outputs": [],
   "source": [
    "text = texts[0]\n",
    "target_lang = target_langs[0]"
   ]
  },
  {
   "cell_type": "code",
   "execution_count": 9,
   "id": "ce4faaf5",
   "metadata": {},
   "outputs": [
    {
     "data": {
      "text/plain": [
       "['Глава 1.',\n",
       " 'Призыв к битве Мир древности был полон чудес и чудовищ.',\n",
       " 'В те дни на земле великих правителей и легендарных героев, сражения не ограничивались только оружием и армиями.',\n",
       " 'Они были испытаниями силы духа, мужества и ума.',\n",
       " 'Одним из таких испытаний стали гонки на колесницах, что стало невероятно популярным в различных уголках мира, и даже в Иудее, где собрались великие герои Библии.',\n",
       " 'Эти гонки, однако, не были простыми.',\n",
       " 'Они не были лишь забава ради.',\n",
       " 'Каждая колесница олицетворяла не только военную мощь, но и внутренний бой, борьбу с судьбой, и даже божественные вмешательства.',\n",
       " 'Колесницы, запряженные сильными животными, мчались по древним трассам, где каждое движение было решающим.',\n",
       " 'Гонщики, ставшие участниками этих состязаний, были героями, чьи имена известны всем — Моисей, Давид, Илия и многие другие.',\n",
       " 'Глава 2.',\n",
       " 'Моисей и его колесница Моисей, великий вождь и пророк, был на старости лет, но в его глазах горел огонь непокорного духа.',\n",
       " 'Он решил принять участие в этих гонках, чтобы доказать, что даже в конце жизненного пути можно быть великим и сильным.',\n",
       " 'Его колесница, украшенная символами Бога и народом Израиля, сияла на солнце.',\n",
       " 'В ней он увидел свою последнюю битву, последнее испытание.',\n",
       " '\"Верьте в Бога, — сказал Моисей своим соратникам.',\n",
       " '— Он ведет нас к победе\".',\n",
       " 'Смело выехав на стартовую линию, он оказался лицом к лицу с Давидом, царем Израиля.',\n",
       " 'Давид, всегда полный решимости и веры, взглянул на Моисея с уважением.',\n",
       " 'Но несмотря на всю свою храбрость, Моисей знал: это будет не просто гонка.',\n",
       " 'Это будет битва за честь, за свободу народа, за его духовную силу.',\n",
       " 'Глава 3.',\n",
       " 'Давид и его колесница Давид, юный и мудрый, знал, что каждая победа — это не просто физическая сила, а воля Божья.',\n",
       " 'Он был вдохновлен тем, как Бог привел его к победам в битвах, и считал, что гонки на колесницах будут лишь очередным проявлением божественного вмешательства в его жизнь.',\n",
       " 'Его колесница была простой, но с глубокими религиозными символами, напоминая о той победе, которую он одержал над Голиафом.',\n",
       " 'Как и Моисей, Давид был готов доказать свою веру в Бога в этом поединке на колесницах.',\n",
       " 'Он знал, что гонка — это не только состязание силы и скорости, но и духовная борьба за благо народа.',\n",
       " 'Глава 4.',\n",
       " 'Илия и пророчество гонок Илия, великий пророк, пришел из пустыни, приверженец строгих традиций и невероятной силы духа.',\n",
       " 'Он знал, что гонки на колесницах — это не просто испытание физической силы, а также проверка веры.',\n",
       " 'Илия был уверен, что победа в гонках даст ему возможность еще раз подтвердить силу Бога, способного явить чудеса даже в самых безнадежных ситуациях.',\n",
       " 'Его колесница была украшена мистическими символами, изображениями огня и молний.',\n",
       " 'Она символизировала власть Бога, которая может испепелить врагов и очистить землю.',\n",
       " 'Илия был готов дать своему народу знак победы.',\n",
       " 'Глава 5.',\n",
       " 'Эсфирь и сила женского духа Даже в этом мире, полном мужественных героев, участие в гонках на колесницах было открыто для женщин.',\n",
       " 'Эсфирь, царица Персии, приняла решение участвовать в гонке, чтобы доказать силу женского духа и своего народа.',\n",
       " 'Ее колесница была богато украшена, а сама она была непоколебима в своей вере.',\n",
       " 'Эсфирь знала, что гонки на колесницах станут не только испытанием ее физической силы, но и возможностью утвердить важность духовной силы женщины в этом мире.',\n",
       " '\"Бог ведет нас, и я верю, что победа будет за нами\", — сказала она, начиная свой путь.',\n",
       " 'Глава 6.',\n",
       " 'Схватка на трассе Гонка началась.',\n",
       " 'Молния вспыхнула, когда колесницы разогнались на максимальной скорости, и зрители затаили дыхание.',\n",
       " 'Моисей, Давид, Илия и Эсфирь мчались по крутым поворотам и опасным участкам трассы, где каждое движение было решающим.',\n",
       " 'Моисей, мудрый и опытный, держал курс на победу.',\n",
       " 'Он знал, что важно не только победить, но и сохранить силу духа.',\n",
       " 'Давид, молодой и решительный, рвался к финишу, не теряя веры в свою победу.',\n",
       " 'Илия, пронизанный огненной силой Бога, боролся с судьбой, бросая вызовы невидимым силам.',\n",
       " 'Эсфирь, несомненно, была одной из самых сильных противниц, полная решимости и веры в свою победу.']"
      ]
     },
     "execution_count": 9,
     "metadata": {},
     "output_type": "execute_result"
    }
   ],
   "source": [
    "blocks = model.split_text_to_blocks(\n",
    "    text=text,\n",
    "    source_lang=source_lang,\n",
    "    max_tokens=128,\n",
    "    buffer=8\n",
    ")\n",
    "blocks"
   ]
  },
  {
   "cell_type": "code",
   "execution_count": 10,
   "id": "e6b67531",
   "metadata": {},
   "outputs": [
    {
     "data": {
      "text/plain": [
       "'Моисей и его колесница Моисей, великий вождь и пророк, был на старости лет, но в его глазах горел огонь непокорного духа.'"
      ]
     },
     "execution_count": 10,
     "metadata": {},
     "output_type": "execute_result"
    }
   ],
   "source": [
    "blocks[11]"
   ]
  },
  {
   "cell_type": "code",
   "execution_count": 11,
   "id": "b476343d",
   "metadata": {},
   "outputs": [
    {
     "data": {
      "text/plain": [
       "(torch.Size([1, 45]), torch.Size([1, 45]))"
      ]
     },
     "execution_count": 11,
     "metadata": {},
     "output_type": "execute_result"
    }
   ],
   "source": [
    "model_inputs = model.tokenize(\n",
    "    blocks[11], \n",
    "    source_lang, \n",
    "    max_length=128,\n",
    ")\n",
    "model_inputs['input_ids'].shape, model_inputs['attention_mask'].shape"
   ]
  },
  {
   "cell_type": "code",
   "execution_count": 12,
   "id": "21681c87",
   "metadata": {},
   "outputs": [
    {
     "name": "stdout",
     "output_type": "stream",
     "text": [
      "__ru__ Моисей и его колесница Моисей, великий вождь и пророк, был на старости лет, но в его глазах горел огонь непокорного духа.</s>\n"
     ]
    }
   ],
   "source": [
    "decoded_text = model.tokenizer.decode(\n",
    "    model_inputs[\"input_ids\"][0],\n",
    "    skip_special_tokens=False\n",
    ")\n",
    "print(decoded_text)"
   ]
  },
  {
   "cell_type": "code",
   "execution_count": 13,
   "id": "5fda0065",
   "metadata": {},
   "outputs": [
    {
     "name": "stderr",
     "output_type": "stream",
     "text": [
      "d:\\projects\\env_ml\\.venv\\Lib\\site-packages\\transformers\\generation\\configuration_utils.py:634: UserWarning: `do_sample` is set to `False`. However, `top_p` is set to `0.95` -- this flag is only used in sample-based generation modes. You should set `do_sample=True` or unset `top_p`.\n",
      "  warnings.warn(\n"
     ]
    }
   ],
   "source": [
    "generated_tokens = model.model.generate(\n",
    "    **model_inputs,\n",
    "    forced_bos_token_id=model.tokenizer.lang_code_to_id['en'],\n",
    "    max_length=256,\n",
    "    num_beams=5,\n",
    "    top_k=50,\n",
    "    top_p=0.95,\n",
    "    repetition_penalty=1.2,\n",
    "    temperature=1.0,\n",
    "    do_sample=False,\n",
    "    early_stopping=True,\n",
    "    # length_penalty=1.0,\n",
    "    no_repeat_ngram_size=3,\n",
    ")\n"
   ]
  },
  {
   "cell_type": "code",
   "execution_count": 14,
   "id": "cbe9c599",
   "metadata": {},
   "outputs": [
    {
     "data": {
      "text/plain": [
       "'Moses and his wheelchair Moses, the great leader and prophet, were old years old, but in his eyes a fire of unacceptable spirit burned.'"
      ]
     },
     "execution_count": 14,
     "metadata": {},
     "output_type": "execute_result"
    }
   ],
   "source": [
    "# Декодируем сгенерированные токены\n",
    "generated_text = model.tokenizer.decode(\n",
    "    generated_tokens[0],  # Берем первый элемент, если вывод многомерный\n",
    "    skip_special_tokens=True  # Обычно лучше пропускать спwециальные токены\n",
    ")\n",
    "\n",
    "generated_text"
   ]
  },
  {
   "cell_type": "code",
   "execution_count": 15,
   "id": "7c64c029",
   "metadata": {},
   "outputs": [
    {
     "data": {
      "text/plain": [
       "'Moses and his wardrobe Moses, the great leader and prophet, were old years old, but in his eyes a fire of the unrighteous spirit burned.'"
      ]
     },
     "execution_count": 15,
     "metadata": {},
     "output_type": "execute_result"
    }
   ],
   "source": [
    "translate = model._translate(\n",
    "    text=blocks[11],\n",
    "    source_lang=source_lang,\n",
    "    target_lang='en',\n",
    "    # repetition_penalty=1.0,\n",
    "    # temperature=0.1,\n",
    "    # input_max_length=128,\n",
    "    # output_max_length=256,\n",
    "    # num_beams=5,\n",
    "    # early_stopping=False,\n",
    "    # do_sample=True,\n",
    "    # length_penalty=1.0,\n",
    ")\n",
    "translate"
   ]
  },
  {
   "cell_type": "code",
   "execution_count": 16,
   "id": "fac86e3b",
   "metadata": {},
   "outputs": [
    {
     "data": {
      "text/plain": [
       "'Moses and his wardrobe Moses, the great leader and prophet, were old years old, but in his eyes a fire of the unrighteous spirit burned.'"
      ]
     },
     "execution_count": 16,
     "metadata": {},
     "output_type": "execute_result"
    }
   ],
   "source": [
    "result = model.translate(\n",
    "    text=blocks[11],\n",
    "    source_lang=source_lang,\n",
    "    target_lang='en'\n",
    ")\n",
    "result"
   ]
  },
  {
   "cell_type": "code",
   "execution_count": 17,
   "id": "45045aea",
   "metadata": {},
   "outputs": [],
   "source": [
    "# results = model.translate_batch(\n",
    "#     texts=texts,\n",
    "#     source_lang=source_lang,\n",
    "#     target_langs=target_langs\n",
    "# )\n",
    "\n",
    "# for i, result in enumerate(results):\n",
    "#     print(f\"\\n🔹 Текст {i+1}\")\n",
    "#     for lang, translation in result.items():\n",
    "#         print(f\"[{lang}] ({len(translation)} символов):\\n{translation[:1000]}...\")  # первые 1000 символов\n"
   ]
  }
 ],
 "metadata": {
  "kernelspec": {
   "display_name": ".venv",
   "language": "python",
   "name": "python3"
  },
  "language_info": {
   "codemirror_mode": {
    "name": "ipython",
    "version": 3
   },
   "file_extension": ".py",
   "mimetype": "text/x-python",
   "name": "python",
   "nbconvert_exporter": "python",
   "pygments_lexer": "ipython3",
   "version": "3.11.5"
  }
 },
 "nbformat": 4,
 "nbformat_minor": 5
}

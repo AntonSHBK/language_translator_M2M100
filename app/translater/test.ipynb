{
 "cells": [
  {
   "cell_type": "code",
   "execution_count": 8,
   "metadata": {},
   "outputs": [],
   "source": [
    "from model import TranslationModel"
   ]
  },
  {
   "cell_type": "code",
   "execution_count": 9,
   "metadata": {},
   "outputs": [],
   "source": [
    "base_text = '''\n",
    "Эта машина — идеальный выбор для тех, кто ценит надежность и комфорт в повседневных поездках. С мощным двигателем и экономичным расходом топлива, она станет верным спутником как в городских пробках, так и на долгих путешествиях. Ее стильный дизайн и современные технологии делают каждую поездку не только удобной, но и приятной.\n",
    "'''\n",
    "# DeepL\n",
    "text = '''\n",
    "Esse carro é a escolha ideal para aqueles que valorizam a confiabilidade e o conforto em suas viagens diárias. Com um motor potente e consumo de combustível econômico, ele será um companheiro fiel tanto nos engarrafamentos da cidade quanto em viagens longas. Seu design elegante e a tecnologia moderna tornam cada viagem não apenas confortável, mas também agradável.\n",
    "'''\n",
    "# Этот автомобиль - идеальный выбор для тех, кто ценит надежность и комфорт в ежедневных поездках. Благодаря мощному двигателю и экономичному расходу топлива он станет верным спутником как в городских пробках, так и в дальних путешествиях. Его элегантный дизайн и современные технологии делают каждую поездку не только комфортной, но и приятной.\n",
    "# text = '''\n",
    "\n",
    "# '''"
   ]
  },
  {
   "cell_type": "code",
   "execution_count": null,
   "metadata": {},
   "outputs": [],
   "source": [
    "model = TranslationModel(\n",
    "    model_name='facebook/m2m100_418M',\n",
    "    cache_dir='../data/cache'\n",
    ")\n",
    "\n",
    "# Перевод текста с английского на несколько языков\n",
    "target_langs = [\"ru\"]  # Переводим на французский, испанский и немецкий\n",
    "source_lang = 'pt'\n",
    "\n",
    "translated_texts = model.translate_batch(\n",
    "    texts=[text], \n",
    "    source_lang=source_lang, \n",
    "    target_langs=target_langs,\n",
    "    use_langdetect=False\n",
    ")\n",
    "\n",
    "for text in translated_texts:\n",
    "    print(text)"
   ]
  },
  {
   "cell_type": "code",
   "execution_count": null,
   "metadata": {},
   "outputs": [],
   "source": [
    "translated_texts"
   ]
  },
  {
   "cell_type": "code",
   "execution_count": 1,
   "metadata": {},
   "outputs": [
    {
     "name": "stdout",
     "output_type": "stream",
     "text": [
      "{'translations': [{'fr': [\"Le chef des Nations unies dit qu'il n'y a pas de solution militaire en Syrie\"], 'es': ['El jefe de las Naciones Unidas dice que no hay solución militar en Siria'], 'de': ['UN-Chef sagt, es gibt keine militärische Lösung in Syrien']}]}\n"
     ]
    }
   ],
   "source": [
    "import requests\n",
    "import json\n",
    "\n",
    "url = \"http://127.0.0.1:8000/api/translate\"\n",
    "headers = {\"Content-Type\": \"application/json\"}\n",
    "\n",
    "data = {\n",
    "    \"text\": [\"The head of the United Nations says there is no military solution in Syria\"],\n",
    "    \"source_lang\": \"en\",\n",
    "    \"target_langs\": [\"fr\", \"es\", \"de\"]\n",
    "}\n",
    "\n",
    "response = requests.post(url, headers=headers, data=json.dumps(data))\n",
    "\n",
    "print(response.json())\n"
   ]
  }
 ],
 "metadata": {
  "kernelspec": {
   "display_name": ".venv",
   "language": "python",
   "name": "python3"
  },
  "language_info": {
   "codemirror_mode": {
    "name": "ipython",
    "version": 3
   },
   "file_extension": ".py",
   "mimetype": "text/x-python",
   "name": "python",
   "nbconvert_exporter": "python",
   "pygments_lexer": "ipython3",
   "version": "3.11.5"
  }
 },
 "nbformat": 4,
 "nbformat_minor": 2
}
